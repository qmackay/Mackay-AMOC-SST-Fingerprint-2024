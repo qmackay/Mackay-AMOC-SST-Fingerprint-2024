{
 "cells": [
  {
   "cell_type": "code",
   "execution_count": null,
   "id": "f50a4c7a",
   "metadata": {},
   "outputs": [],
   "source": [
    "import xarray as xr\n",
    "\n",
    "#rlzn to do\n",
    "rlzn_num = 10\n",
    "\n",
    "fdir = '[CMIP6 MSFTMZ PATH]'\n",
    "fname = '/msftmz_Omon_MPI-ESM1-2-HR_historical_r{}*.nc'.format(rlzn_num)\n",
    "print(fdir+fname)\n",
    "f = xr.open_mfdataset(fdir+fname,combine='by_coords')\n",
    "f\n"
   ]
  },
  {
   "cell_type": "code",
   "execution_count": null,
   "id": "318fe1c1",
   "metadata": {},
   "outputs": [],
   "source": [
    "print(f.sector.values)\n",
    "atl_idx = 1 # index of atlantic basin"
   ]
  },
  {
   "cell_type": "code",
   "execution_count": null,
   "id": "8e9a5240",
   "metadata": {},
   "outputs": [],
   "source": [
    "# 2-D structure of AMOC\n",
    "f['msftmz'].sel(basin=atl_idx).mean('time').plot()"
   ]
  },
  {
   "cell_type": "code",
   "execution_count": null,
   "id": "b04d2db3",
   "metadata": {},
   "outputs": [],
   "source": [
    "def AMOCI(msftmz,atl_idx=atl_idx):\n",
    "    # unit: kg/s --> Sv\n",
    "    return msftmz.sel(basin=atl_idx).where(msftmz.lev>500).where(msftmz.lat>-10).max(('lev','lat'))\n",
    "\n",
    "def anu(var):\n",
    "    # annual mean\n",
    "    return var.groupby('time.year').mean('time')\n",
    "\n",
    "amoc1 = anu(AMOCI(f['msftmz']))\n",
    "amoc1.plot()\n",
    "amoc1.values\n",
    "path='[EXPORT PATH]'\n",
    "\n",
    "\n",
    "filename = 'AMOCI_historical_r{}.nc'.format(rlzn_num)\n",
    "amoc1.to_netcdf(path+filename)"
   ]
  }
 ],
 "metadata": {
  "kernelspec": {
   "display_name": "Python 3 (ipykernel)",
   "language": "python",
   "name": "python3"
  },
  "language_info": {
   "codemirror_mode": {
    "name": "ipython",
    "version": 3
   },
   "file_extension": ".py",
   "mimetype": "text/x-python",
   "name": "python",
   "nbconvert_exporter": "python",
   "pygments_lexer": "ipython3",
   "version": "3.10.12"
  }
 },
 "nbformat": 4,
 "nbformat_minor": 5
}
