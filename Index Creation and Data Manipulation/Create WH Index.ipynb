{
 "cells": [
  {
   "cell_type": "code",
   "execution_count": null,
   "metadata": {},
   "outputs": [],
   "source": [
    "import netCDF4\n",
    "import numpy as np\n",
    "import pandas as pd\n",
    "import xarray as xr\n",
    "import cartopy.crs as ccrs\n",
    "from matplotlib import pyplot as plt"
   ]
  },
  {
   "cell_type": "code",
   "execution_count": null,
   "metadata": {},
   "outputs": [],
   "source": [
    "# Getting TOS Dataset -- Historical\n",
    "\n",
    "filesetHist = '/Volumes/HDDBackup/CMIP6/Historical/tos_MPI-ESM1-2-HR_historical1850-2014_multi-realization.nc'\n",
    "datasets = xr.open_dataarray(filesetHist)\n",
    "\n",
    "NAWH_SST_HIST = datasets.where(datasets.latitude < 61).where(datasets.longitude < 345).where(datasets.longitude > 322).where(datasets.latitude > 48.5).mean((\"i\", \"j\"))\n",
    "GLOBAL_SST_HIST = datasets.where(datasets.latitude < 75).where(datasets.longitude < 360).where(datasets.longitude > 0).where(datasets.latitude > -60).mean((\"i\", \"j\"))\n",
    "\n",
    "hist_sst_anomaly = NAWH_SST_HIST - GLOBAL_SST_HIST\n",
    "\n",
    "hist_sst_anomaly.to_netcdf('[RESULTANT DIRECTORY]')\n",
    "\n",
    "## Getting TOS Dataset - Abrupt\n",
    "\n",
    "filesetabrupt = '/Volumes/HDDBackup/CMIP6/Abrupt/tos_MPI-ESM1-2-HR_abrupt-4xCO21850-2014_multi-realization.nc'\n",
    "AbruptCo2Data = (xr.open_dataarray(filesetabrupt))\n",
    "\n",
    "NAWH = AbruptCo2Data.where(AbruptCo2Data.latitude < 61).where(AbruptCo2Data.longitude < 345).where(AbruptCo2Data.longitude > 322).where(AbruptCo2Data.latitude > 48.5).mean((\"i\", \"j\"))\n",
    "GLOBAL = AbruptCo2Data.where(AbruptCo2Data.latitude < 75).where(AbruptCo2Data.longitude < 360).where(AbruptCo2Data.longitude > 0).where(AbruptCo2Data.latitude > -60).mean((\"i\", \"j\"))\n",
    "\n",
    "abrupt_sst_anomaly = NAWH - GLOBAL\n",
    "\n",
    "abrupt_sst_anomaly.to_netcdf('[RESULTANT DIRECTORY]')\n",
    "\n",
    "## Getting TOS Dataset - SSP\n",
    "\n",
    "filesetssp = '/Volumes/HDDBackup/CMIP6/SSP245/tos_MPI-ESM1-2-HR_ssp2451850-2014_multi-realization.nc'\n",
    "SSPCO2Data = (xr.open_dataarray(filesetssp))\n",
    "\n",
    "NAWH = SSPCO2Data.where(SSPCO2Data.latitude < 61).where(SSPCO2Data.longitude < 345).where(SSPCO2Data.longitude > 322).where(SSPCO2Data.latitude > 48.5).mean((\"i\", \"j\"))\n",
    "GLOBAL = SSPCO2Data.where(SSPCO2Data.latitude < 75).where(SSPCO2Data.longitude < 360).where(SSPCO2Data.longitude > 0).where(SSPCO2Data.latitude > -60).mean((\"i\", \"j\"))\n",
    "\n",
    "ssp_sst_anomaly = NAWH - GLOBAL\n",
    "\n",
    "ssp_sst_anomaly.to_netcdf('[RESULTANT DIRECTORY]')"
   ]
  }
 ],
 "metadata": {
  "kernelspec": {
   "display_name": "psu-env",
   "language": "python",
   "name": "python3"
  },
  "language_info": {
   "codemirror_mode": {
    "name": "ipython",
    "version": 3
   },
   "file_extension": ".py",
   "mimetype": "text/x-python",
   "name": "python",
   "nbconvert_exporter": "python",
   "pygments_lexer": "ipython3",
   "version": "3.10.12"
  }
 },
 "nbformat": 4,
 "nbformat_minor": 2
}
