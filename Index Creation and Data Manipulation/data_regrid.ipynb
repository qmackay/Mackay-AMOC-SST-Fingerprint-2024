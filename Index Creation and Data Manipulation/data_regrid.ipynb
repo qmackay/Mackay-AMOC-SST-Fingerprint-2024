{
 "cells": [
  {
   "cell_type": "code",
   "execution_count": 7,
   "metadata": {},
   "outputs": [
    {
     "name": "stdout",
     "output_type": "stream",
     "text": [
      "<xarray.Dataset>\n",
      "Dimensions:    (rlzn: 2, j: 404, i: 802, year: 86)\n",
      "Coordinates:\n",
      "  * rlzn       (rlzn) int64 1 2\n",
      "  * j          (j) int32 0 1 2 3 4 5 6 7 8 ... 396 397 398 399 400 401 402 403\n",
      "  * i          (i) int32 0 1 2 3 4 5 6 7 8 ... 794 795 796 797 798 799 800 801\n",
      "    latitude   (j, i) float64 ...\n",
      "    longitude  (j, i) float64 ...\n",
      "  * year       (year) int64 2015 2016 2017 2018 2019 ... 2097 2098 2099 2100\n",
      "Data variables:\n",
      "    tos        (rlzn, year, j, i) float32 ...\n"
     ]
    }
   ],
   "source": [
    "import xesmf as xe\n",
    "import xarray as xr\n",
    "import numpy as np\n",
    "import netCDF4\n",
    "\n",
    "fin = xr.open_dataset('[Any TOS Multi-Rlzn File Path]')\n",
    "\n",
    "print(fin)"
   ]
  },
  {
   "cell_type": "code",
   "execution_count": 8,
   "metadata": {},
   "outputs": [],
   "source": [
    "ds_out = xr.Dataset({\"lat\": ([\"lat\"], np.arange(-89.5, 90, 1.0), {\"units\": \"degrees_north\"}),\n",
    " \"lon\": ([\"lon\"], np.arange(-179.5, 180, 1), {\"units\": \"degrees_east\"})})\n",
    "\n",
    "var_name = 'tos'\n",
    "\n",
    "def regrid(fin,ds_out=ds_out,var_name=var_name,method='nearest_s2d'): \n",
    "    regridder = xe.Regridder(fin,ds_out,method)\n",
    "    return regridder(fin[var_name])\n",
    "\n",
    "tos = regrid(fin)"
   ]
  },
  {
   "cell_type": "code",
   "execution_count": 9,
   "metadata": {},
   "outputs": [
    {
     "name": "stdout",
     "output_type": "stream",
     "text": [
      "<xarray.DataArray (rlzn: 2, year: 86, lat: 180, lon: 360)>\n",
      "array([[[[       nan,        nan,        nan, ...,        nan,\n",
      "                 nan,        nan],\n",
      "         [       nan,        nan,        nan, ...,        nan,\n",
      "                 nan,        nan],\n",
      "         [       nan,        nan,        nan, ...,        nan,\n",
      "                 nan,        nan],\n",
      "         ...,\n",
      "         [-1.8998126, -1.8998126, -1.8998126, ..., -1.8998194,\n",
      "          -1.8998194, -1.8998194],\n",
      "         [-1.8997847, -1.8997847, -1.8997847, ..., -1.8997847,\n",
      "          -1.8997847, -1.8997847],\n",
      "         [-1.899787 , -1.899787 , -1.899787 , ..., -1.899787 ,\n",
      "          -1.899787 , -1.899787 ]],\n",
      "\n",
      "        [[       nan,        nan,        nan, ...,        nan,\n",
      "                 nan,        nan],\n",
      "         [       nan,        nan,        nan, ...,        nan,\n",
      "                 nan,        nan],\n",
      "         [       nan,        nan,        nan, ...,        nan,\n",
      "                 nan,        nan],\n",
      "...\n",
      "         [-1.8338078, -1.8338078, -1.8338078, ..., -1.8387583,\n",
      "          -1.8387583, -1.8387583],\n",
      "         [-1.7678866, -1.7678866, -1.7678866, ..., -1.7678866,\n",
      "          -1.7678866, -1.7678866],\n",
      "         [-1.7497029, -1.7497029, -1.7497029, ..., -1.7497029,\n",
      "          -1.7497029, -1.7497029]],\n",
      "\n",
      "        [[       nan,        nan,        nan, ...,        nan,\n",
      "                 nan,        nan],\n",
      "         [       nan,        nan,        nan, ...,        nan,\n",
      "                 nan,        nan],\n",
      "         [       nan,        nan,        nan, ...,        nan,\n",
      "                 nan,        nan],\n",
      "         ...,\n",
      "         [-1.7366432, -1.7366432, -1.7366432, ..., -1.7377677,\n",
      "          -1.7377677, -1.7377677],\n",
      "         [-1.7024397, -1.7024397, -1.7024397, ..., -1.7024397,\n",
      "          -1.7024397, -1.7024397],\n",
      "         [-1.6265217, -1.6265217, -1.6265217, ..., -1.6265217,\n",
      "          -1.6265217, -1.6265217]]]], dtype=float32)\n",
      "Coordinates:\n",
      "  * rlzn     (rlzn) int64 1 2\n",
      "  * year     (year) int64 2015 2016 2017 2018 2019 ... 2096 2097 2098 2099 2100\n",
      "  * lat      (lat) float64 -89.5 -88.5 -87.5 -86.5 -85.5 ... 86.5 87.5 88.5 89.5\n",
      "  * lon      (lon) float64 -179.5 -178.5 -177.5 -176.5 ... 177.5 178.5 179.5\n",
      "Attributes:\n",
      "    regrid_method:  nearest_s2d\n"
     ]
    }
   ],
   "source": [
    "tos.rename('tos').to_netcdf('[Output Path & Name]')"
   ]
  }
 ],
 "metadata": {
  "kernelspec": {
   "display_name": "xesmf_env",
   "language": "python",
   "name": "python3"
  },
  "language_info": {
   "codemirror_mode": {
    "name": "ipython",
    "version": 3
   },
   "file_extension": ".py",
   "mimetype": "text/x-python",
   "name": "python",
   "nbconvert_exporter": "python",
   "pygments_lexer": "ipython3",
   "version": "3.10.10"
  },
  "orig_nbformat": 4
 },
 "nbformat": 4,
 "nbformat_minor": 2
}
