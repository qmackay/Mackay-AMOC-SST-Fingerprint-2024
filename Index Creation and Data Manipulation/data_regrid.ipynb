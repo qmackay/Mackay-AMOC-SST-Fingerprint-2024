{
 "cells": [
  {
   "cell_type": "code",
   "execution_count": null,
   "metadata": {},
   "outputs": [],
   "source": [
    "import xesmf as xe\n",
    "import xarray as xr\n",
    "import numpy as np\n",
    "import netCDF4\n",
    "\n",
    "fin = xr.open_dataset('[Any TOS Multi-Rlzn File Path]')\n",
    "\n",
    "print(fin)"
   ]
  },
  {
   "cell_type": "code",
   "execution_count": null,
   "metadata": {},
   "outputs": [],
   "source": [
    "ds_out = xr.Dataset({\"lat\": ([\"lat\"], np.arange(-89.5, 90, 1.0), {\"units\": \"degrees_north\"}),\n",
    " \"lon\": ([\"lon\"], np.arange(-179.5, 180, 1), {\"units\": \"degrees_east\"})})\n",
    "\n",
    "var_name = 'tos'\n",
    "\n",
    "def regrid(fin,ds_out=ds_out,var_name=var_name,method='nearest_s2d'): \n",
    "    regridder = xe.Regridder(fin,ds_out,method)\n",
    "    return regridder(fin[var_name])\n",
    "\n",
    "tos = regrid(fin)"
   ]
  },
  {
   "cell_type": "code",
   "execution_count": null,
   "metadata": {},
   "outputs": [],
   "source": [
    "tos.rename('tos').to_netcdf('[Output Path & Name]')"
   ]
  }
 ],
 "metadata": {
  "kernelspec": {
   "display_name": "xesmf_env",
   "language": "python",
   "name": "python3"
  },
  "language_info": {
   "codemirror_mode": {
    "name": "ipython",
    "version": 3
   },
   "file_extension": ".py",
   "mimetype": "text/x-python",
   "name": "python",
   "nbconvert_exporter": "python",
   "pygments_lexer": "ipython3",
   "version": "3.10.10"
  },
  "orig_nbformat": 4
 },
 "nbformat": 4,
 "nbformat_minor": 2
}
