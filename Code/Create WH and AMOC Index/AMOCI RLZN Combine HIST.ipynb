{
 "cells": [
  {
   "cell_type": "code",
   "execution_count": 1,
   "metadata": {},
   "outputs": [],
   "source": [
    "import xarray as xr\n",
    "\n",
    "filedir = '[AMOCI PATH]'\n",
    "filename_base = 'AMOCI_historical_r{}.nc'\n",
    "filename_finished = 'AMOCI_historical_multi_rlzn'\n",
    "\n",
    "datasets = []\n",
    "\n",
    "for rlzn_num in range(1, 11):\n",
    "    filename = filename_base.format(rlzn_num)\n",
    "    f = xr.open_dataset(filedir + filename)\n",
    "    rlzn_coord = xr.DataArray([rlzn_num], dims='rlzn', name='rlzn')\n",
    "    f = f.assign_coords(rlzn=rlzn_coord)\n",
    "    datasets.append(f)\n",
    "\n",
    "combined_dataset = xr.concat(datasets, dim='rlzn')\n",
    "combined_dataset.to_netcdf(filedir + filename_finished)\n"
   ]
  }
 ],
 "metadata": {
  "kernelspec": {
   "display_name": "psu-env",
   "language": "python",
   "name": "python3"
  },
  "language_info": {
   "codemirror_mode": {
    "name": "ipython",
    "version": 3
   },
   "file_extension": ".py",
   "mimetype": "text/x-python",
   "name": "python",
   "nbconvert_exporter": "python",
   "pygments_lexer": "ipython3",
   "version": "3.10.12"
  }
 },
 "nbformat": 4,
 "nbformat_minor": 2
}
