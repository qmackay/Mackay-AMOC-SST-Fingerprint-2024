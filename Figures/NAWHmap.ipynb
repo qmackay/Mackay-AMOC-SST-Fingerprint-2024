{
 "cells": [
  {
   "cell_type": "code",
   "execution_count": null,
   "metadata": {},
   "outputs": [],
   "source": [
    "import netCDF4\n",
    "import xarray as xr\n",
    "import numpy as np\n",
    "import matplotlib.pyplot as plt\n",
    "import numpy as np\n",
    "import cartopy.crs as ccrs\n",
    "import cartopy.feature as cfeature\n",
    "import sys\n",
    "import pandas as pd"
   ]
  },
  {
   "cell_type": "code",
   "execution_count": null,
   "metadata": {},
   "outputs": [],
   "source": [
    "def anu(var):\n",
    "    return var.groupby('time.year').mean(dim='time')\n",
    "\n",
    "# file paths\n",
    "filesethistorical = '[regridded TOS historical file]'\n",
    "\n",
    "## Loading and viewing the SST data. Setting lat and lon.\n",
    "\n",
    "HistoricalSSTData = xr.open_dataset(filesethistorical)\n",
    "\n",
    "lat = HistoricalSSTData.lat\n",
    "lon = HistoricalSSTData.lon"
   ]
  },
  {
   "cell_type": "code",
   "execution_count": null,
   "metadata": {},
   "outputs": [],
   "source": [
    "def sample_data():\n",
    "\n",
    "    crs = ccrs.RotatedPole(pole_longitude=180)\n",
    "    \n",
    "    x = lon\n",
    "    y = lat\n",
    "\n",
    "    return x, y, crs\n",
    "\n",
    "\n",
    "def main():\n",
    "    fig = plt.figure()\n",
    "    ax = fig.add_subplot(1, 1, 1, projection=ccrs.Orthographic(central_latitude=50,central_longitude=320))\n",
    "\n",
    "    ax.set_global()\n",
    "    ax.gridlines()\n",
    "\n",
    "     # Plotting land\n",
    "    ax.add_feature(cfeature.LAND, color='darkseagreen', edgecolor='black', zorder=0)\n",
    "\n",
    "    # Plotting ocean\n",
    "    ax.add_feature(cfeature.OCEAN, color='lightblue', edgecolor='black', zorder=1)\n",
    "\n",
    "    plt.plot([-38,-38],[48.5,61],linewidth=1, transform=ccrs.PlateCarree(), color='k', linestyle = 'dashed')\n",
    "    plt.plot([-15,-15],[48.5,61],linewidth=1, transform=ccrs.PlateCarree(), color='k', linestyle = 'dashed')\n",
    "    plt.plot([-38,-15],[48.5,48.5],linewidth=1, transform=ccrs.PlateCarree(), color='k', linestyle = 'dashed')\n",
    "    plt.plot([-38,-15],[61,61],linewidth=1, transform=ccrs.PlateCarree(), color='k', linestyle = 'dashed')\n",
    "    plt.rcParams.update({'font.family':'sans-serif'})\n",
    "    plt.rcParams.update({'font.sans-serif':'Arial'})\n",
    "\n",
    "    ax.add_feature(cfeature.COASTLINE,lw=1,zorder=1.2)\n",
    "    ax.set_extent((-80,15,20,69), crs = ccrs.PlateCarree())\n",
    "\n",
    "    fig_name = 'NAWH Map'\n",
    "    fig_dir = '[OUTPUT PATH]'\n",
    "    plt.savefig(fig_dir + fig_name, dpi=600, facecolor='white', transparent=False) \n",
    "    plt.show()\n",
    "\n",
    "if __name__ == '__main__':\n",
    "    main()"
   ]
  }
 ],
 "metadata": {
  "kernelspec": {
   "display_name": "psu-env",
   "language": "python",
   "name": "python3"
  },
  "language_info": {
   "codemirror_mode": {
    "name": "ipython",
    "version": 3
   },
   "file_extension": ".py",
   "mimetype": "text/x-python",
   "name": "python",
   "nbconvert_exporter": "python",
   "pygments_lexer": "ipython3",
   "version": "3.10.12"
  }
 },
 "nbformat": 4,
 "nbformat_minor": 2
}
